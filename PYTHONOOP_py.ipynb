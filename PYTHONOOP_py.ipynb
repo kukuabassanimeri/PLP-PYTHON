{
  "nbformat": 4,
  "nbformat_minor": 0,
  "metadata": {
    "colab": {
      "provenance": [],
      "authorship_tag": "ABX9TyN5LXEFwZSaMJNKEsE+l+tN",
      "include_colab_link": true
    },
    "kernelspec": {
      "name": "python3",
      "display_name": "Python 3"
    },
    "language_info": {
      "name": "python"
    }
  },
  "cells": [
    {
      "cell_type": "markdown",
      "metadata": {
        "id": "view-in-github",
        "colab_type": "text"
      },
      "source": [
        "<a href=\"https://colab.research.google.com/github/kukuabassanimeri/PLP-PYTHON/blob/main/PYTHONOOP_py.ipynb\" target=\"_parent\"><img src=\"https://colab.research.google.com/assets/colab-badge.svg\" alt=\"Open In Colab\"/></a>"
      ]
    },
    {
      "cell_type": "code",
      "execution_count": null,
      "metadata": {
        "colab": {
          "base_uri": "https://localhost:8080/"
        },
        "id": "MIhUX9uVNq8Z",
        "outputId": "50096ec7-9778-4e26-bff1-4f86e62899b3"
      },
      "outputs": [
        {
          "output_type": "stream",
          "name": "stdout",
          "text": [
            "Abassy\n",
            "Abassy\n"
          ]
        }
      ],
      "source": [
        "#PYTHON OOP\n",
        "#PYTHON CLASSES & OBJECTS can be defined using type() method\n",
        "#SYNTAX class<class name>:\n",
        "#<statement1>\n",
        "#<statement2> ....\n",
        "#class members are: class attribute, constructors, instance attribute, properties & class methods\n",
        "#CLASS ATTRIBUTE - Variable defined directly in the class that are shared by all objects of the class\n",
        "#Can be accesss using class & objects\n",
        "#SYNTAX: class person:\n",
        "#name = \"skinny\"..this is attribute\n",
        "#The name is a class attribute defined inside a class Person. The value of the name will remain the same for all the objects unless modified explicitly\n",
        "#ACCCESSING CLASS ATTRIBUTES\n",
        "#Person.name\n",
        "#'Skinny'\n",
        "#details = Person()\n",
        "#details.name\n",
        "#'Skinny'\n",
        "class person:\n",
        "  name = \"Abassy\"\n",
        "print(person.name)\n",
        "detail = person()\n",
        "print(detail.name)"
      ]
    },
    {
      "cell_type": "code",
      "source": [
        "#PYTHON CONSTRUCTORS\n",
        "#The constructor method is invoked automatically whenever a new object of a class is instantiated, used to define the attributes of an instance and assign values to them.\n",
        "#The constructor must have a special name __init__() and a special parameter called self.\n",
        "#All classes have a function called __init__(), which is always executed when the class is being initiated.\n",
        "#The first parameter of each method in a class must be the self, which refers to the calling object.\n",
        "#class Person:\n",
        "#def __init__(self): # constructor method\n",
        "#print('Constructor invoked')\n",
        "class Person:\n",
        "    def __init__(self, name, age):#constructor\n",
        "        self.name = name\n",
        "        self.age = age\n",
        "\n",
        "    def display_info(self):\n",
        "        print(\"Name:\", self.name)\n",
        "        print(\"Age:\", self.age)\n",
        "\n",
        "#Creating an object of the Person class with constructor arguments\n",
        "person1 = Person(\"John\", 25)\n",
        "\n",
        "#Accessing and printing instance attributes\n",
        "print(\"Person 1 Details:\")\n",
        "person1.display_info()\n"
      ],
      "metadata": {
        "colab": {
          "base_uri": "https://localhost:8080/"
        },
        "id": "RiiqmESgTuAJ",
        "outputId": "d84ba661-a737-4d66-887f-23faa6daedfd"
      },
      "execution_count": null,
      "outputs": [
        {
          "output_type": "stream",
          "name": "stdout",
          "text": [
            "Person 1 Details:\n",
            "Name: John\n",
            "Age: 25\n"
          ]
        }
      ]
    },
    {
      "cell_type": "code",
      "source": [
        "#INSTANCE ATTRIBUTE\n",
        "#Instance attributes are attributes or properties attached to an instance of a class and are defined in the constructor\n",
        "#They can be accessed and modified using dot notation.\n",
        "class Person:\n",
        "    def __init__(self):\n",
        "        self.name = ''  # Instance attribute\n",
        "        self.age = 0    # Instance attribute\n",
        "p1 = Person()\n",
        "print(p1.name)  # Output: ''\n",
        "print(p1.age)   # Output: 0\n",
        "p1.name = \"Mutemi\"\n",
        "p1.age = 65\n",
        "print(p1.name)  # Output: 'Mutemi'\n",
        "print(p1.age)   # Output: 65\n"
      ],
      "metadata": {
        "colab": {
          "base_uri": "https://localhost:8080/"
        },
        "id": "22pc4bqwV7ia",
        "outputId": "22f3173c-5f27-4f6b-f919-00b61f8dbad3"
      },
      "execution_count": null,
      "outputs": [
        {
          "output_type": "stream",
          "name": "stdout",
          "text": [
            "\n",
            "0\n",
            "Mutemi\n",
            "65\n"
          ]
        }
      ]
    },
    {
      "cell_type": "code",
      "source": [
        "class person:\n",
        "  def __init__ (self, name = \"Mkuu\", age = 101):\n",
        "    self.name = name\n",
        "    self.age = age\n",
        "person1 = person()\n",
        "person1.name = \"Guest\"\n",
        "person1.age = 90\n",
        "print(person1.name)\n",
        "print(person1.age)"
      ],
      "metadata": {
        "colab": {
          "base_uri": "https://localhost:8080/"
        },
        "id": "bDL_kobKk_2v",
        "outputId": "f9a576c9-3658-4eee-e259-511c929e4bc2"
      },
      "execution_count": null,
      "outputs": [
        {
          "output_type": "stream",
          "name": "stdout",
          "text": [
            "Guest\n",
            "90\n"
          ]
        }
      ]
    },
    {
      "cell_type": "code",
      "source": [
        "#Class Methods\n",
        "#Class methods are functions defined within a class and operate on class attributes\n",
        "#They must have self as the first parameter\n",
        "class Person:\n",
        "    def displayInfo(self): # Class method\n",
        "        print('Personal Information')\n",
        "p1 = Person()\n",
        "p1.displayInfo()  # Output: Personal Information\n",
        "\n"
      ],
      "metadata": {
        "colab": {
          "base_uri": "https://localhost:8080/"
        },
        "id": "-wiJkiRbmJEj",
        "outputId": "dd915c03-54e7-4bb3-bbb3-5c621428955a"
      },
      "execution_count": null,
      "outputs": [
        {
          "output_type": "stream",
          "name": "stdout",
          "text": [
            "Personal Information\n"
          ]
        }
      ]
    },
    {
      "cell_type": "code",
      "source": [
        "class person:\n",
        "  def __init__(self, name, age):\n",
        "    self.name = name\n",
        "    self.age = age\n",
        "  def displayInfo(self):\n",
        "    print(self.name, self.age)\n",
        "p2 = Person()\n",
        "p2.name = \"Nasra\"\n",
        "p2.age = 23\n",
        "p2.displayInfo()\n",
        "print(p2.name, p2.age)"
      ],
      "metadata": {
        "colab": {
          "base_uri": "https://localhost:8080/"
        },
        "id": "BWfA0ygJoHEl",
        "outputId": "b77771ce-51cb-4373-a989-70859e4e396c"
      },
      "execution_count": null,
      "outputs": [
        {
          "output_type": "stream",
          "name": "stdout",
          "text": [
            "Personal Information\n",
            "Nasra 23\n"
          ]
        }
      ]
    },
    {
      "cell_type": "code",
      "source": [
        "#Deleting Attribute\n",
        "#To delete an attribute from an object, you can use the del keyword followed by the object name and attribute name.\n",
        "std = Person('Mutemi', 65)\n",
        "del std.name\n",
        "#Deleting Object\n",
        "del std\n",
        "#Deleting Class\n",
        "del Person\n"
      ],
      "metadata": {
        "id": "GBIity6DsXE5"
      },
      "execution_count": null,
      "outputs": []
    },
    {
      "cell_type": "code",
      "source": [
        "#Python Inheritance\n",
        "#Inheritance is the process of inheriting properties from a parent class into a child class.\n",
        "#The existing class is called the base class or parent class, and the new class is called the subclass or child class or derived class.\n",
        "#SYNTAX\n",
        "#class parentclass:\n",
        "  #body of parent class\n",
        "#class childclass(parentclass)\n",
        "\n",
        "#Single Inheritance: A child class inherits from a single parent class.\n",
        "class vehicle:\n",
        "  def vehicle_info(self):\n",
        "    print(\"Inside the parent(vehicle) class\")\n",
        "class car(vehicle):\n",
        "  def car_info(self):\n",
        "    print(\"Inside child(are) class\")\n",
        "car = car()\n",
        "car.vehicle_info()\n",
        "car.car_info()"
      ],
      "metadata": {
        "colab": {
          "base_uri": "https://localhost:8080/"
        },
        "id": "CtP37O3ky0BU",
        "outputId": "b358c74a-40c7-4291-d38d-ef29cc136272"
      },
      "execution_count": null,
      "outputs": [
        {
          "output_type": "stream",
          "name": "stdout",
          "text": [
            "Inside the parent(vehicle) class\n",
            "Inside child(are) class\n"
          ]
        }
      ]
    },
    {
      "cell_type": "code",
      "source": [
        "#Multiple Inheritance: A child class inherits from multiple parent classes.\n",
        "#parent father\n",
        "class father:\n",
        "  def father_info(self, name, age):\n",
        "    print(\"Inside father class\")\n",
        "    print(\"Name: \", name, \"Age: \", age)\n",
        "#parent mother\n",
        "class mother:\n",
        "  def mother_info(self, name, location):\n",
        "    print(\"Inside mother class\")\n",
        "    print(\"Mother's name: \", name, \"Location: \", location)\n",
        "#class child\n",
        "class child_schooldetails(father, mother):\n",
        "  def school_info(self, schoolname, grade):\n",
        "    print(\"Inside child_schooldetails class\")\n",
        "    print(\"School name: \", schoolname, \"Grade: \", grade)\n",
        "#create object of schooldetails\n",
        "school = child_schooldetails()\n",
        "\n",
        "#Access child information\n",
        "school.father_info(\"Abass Kuku\", 20)\n",
        "school.mother_info(\"Hindi John\", \"Sudan Nuba mts\")\n",
        "school.school_info(\"Busombi Muslim Mix\", \"Form 4\")"
      ],
      "metadata": {
        "colab": {
          "base_uri": "https://localhost:8080/"
        },
        "id": "jnvd8HQA5Tnv",
        "outputId": "6aa9fcb2-a22d-4cef-aabe-49d958d90bcd"
      },
      "execution_count": null,
      "outputs": [
        {
          "output_type": "stream",
          "name": "stdout",
          "text": [
            "Inside father class\n",
            "Name:  Abass Kuku Age:  20\n",
            "Inside mother class\n",
            "Mother's name:  Hindi John Location:  Sudan Nuba mts\n",
            "Inside child_schooldetails class\n",
            "School name:  Busombi Muslim Mix Grade:  Form 4\n"
          ]
        }
      ]
    },
    {
      "cell_type": "code",
      "source": [
        "#Multilevel Inheritance: A class inherits from a child class or derived class, creating a chain of inheritance.\n",
        "#base class\n",
        "class vehicle:\n",
        "  def vehicle_info(self):\n",
        "    print(\"Inside vehicle class\")\n",
        "#child class\n",
        "class car(vehicle):\n",
        "  def car_info(self):\n",
        "    print(\"Inside car class\")\n",
        "#child class\n",
        "class sportcar(car):\n",
        "  def sport_car_info(self):\n",
        "    print(\"Inside sport car class\")\n",
        "#create object of sport car\n",
        "Toyota = sportcar()\n",
        "Toyota.vehicle_info()\n",
        "Toyota.car_info()\n",
        "Toyota.sport_car_info()"
      ],
      "metadata": {
        "colab": {
          "base_uri": "https://localhost:8080/"
        },
        "id": "RO2xj4yh_3uN",
        "outputId": "7af8fa44-f250-4f27-83b7-6d4c0d7f05d7"
      },
      "execution_count": null,
      "outputs": [
        {
          "output_type": "stream",
          "name": "stdout",
          "text": [
            "Inside vehicle class\n",
            "Inside car class\n",
            "Inside sport car class\n"
          ]
        }
      ]
    },
    {
      "cell_type": "code",
      "source": [
        "#Hierarchical Inheritance: Multiple derived child classes inherit from a single parent class.\n",
        "#It means that there are multiple derived child classes from a single parent class.\n",
        "class vehice:\n",
        "  def info(self):\n",
        "    print(\"This is a Car\")\n",
        "class car(vehicle):\n",
        "  def car_info(self, name):\n",
        "    print(\"Car name is: \", name)\n",
        "class truck(vehice):\n",
        "  def truck_info(self, name):\n",
        "    print(\"Truck name is: \", name)\n",
        "object1 = car()\n",
        "#object1.info()\n",
        "object1.car_info(\"Toyota\")\n",
        "\n",
        "object2 = truck()\n",
        "#object2.info()\n",
        "object2.truck_info(\"Landcruisher\")\n",
        "\n"
      ],
      "metadata": {
        "colab": {
          "base_uri": "https://localhost:8080/"
        },
        "id": "SUglwoZBCaA5",
        "outputId": "2ac9bce8-6e5b-4ef4-a246-8604d0eb89b8"
      },
      "execution_count": null,
      "outputs": [
        {
          "output_type": "stream",
          "name": "stdout",
          "text": [
            "Car name is:  Toyota\n",
            "Truck name is:  Landcruisher\n"
          ]
        }
      ]
    },
    {
      "cell_type": "code",
      "source": [
        "#Hybrid Inheritance: A mixture of two or more different types of inheritance."
      ],
      "metadata": {
        "id": "8W1wr6h5FO30"
      },
      "execution_count": null,
      "outputs": []
    },
    {
      "cell_type": "code",
      "source": [
        "#Python OOP Assignment, week 4\n",
        "#Create a Python class named Person.\n",
        "#The Person class should have the following attributes:\n",
        "#name: representing the person's name.\n",
        "#age: representing the person's age.\n",
        "#gender: representing the person's gender.\n",
        "#Implement a method called introduce that prints a message introducing the person with their name, age, and gender.\n",
        "#Create an instance of the Person class and call the introduce method to display the person's information.\n",
        "class person:\n",
        "  def __init___(self, name, age, gender):\n",
        "    self.name = name\n",
        "    self.age = age\n",
        "    self.gender = gender\n",
        "  def introduce(self):\n",
        "    print(\"I am\", self.name, \", I have \", self.age, \"years old\", \"and I am \", self.gender, \"by gender\")\n",
        "personinfo = person()\n",
        "personinfo.name = \"Abass Kuku Animeri\"\n",
        "personinfo.age = 23\n",
        "personinfo.gender = \"Male\"\n",
        "personinfo.introduce()"
      ],
      "metadata": {
        "colab": {
          "base_uri": "https://localhost:8080/"
        },
        "id": "tR-Dz0o5ZEjm",
        "outputId": "2e8a0d72-8c3b-4458-9a01-2696056d105c"
      },
      "execution_count": 9,
      "outputs": [
        {
          "output_type": "stream",
          "name": "stdout",
          "text": [
            "I am Abass Kuku Animeri , I have  23 years old and I am  Male by gender\n"
          ]
        }
      ]
    }
  ]
}