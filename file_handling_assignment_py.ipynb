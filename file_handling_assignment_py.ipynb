{
  "nbformat": 4,
  "nbformat_minor": 0,
  "metadata": {
    "colab": {
      "provenance": [],
      "authorship_tag": "ABX9TyPx+YJU+X1A/FAyWkwfzHwm",
      "include_colab_link": true
    },
    "kernelspec": {
      "name": "python3",
      "display_name": "Python 3"
    },
    "language_info": {
      "name": "python"
    }
  },
  "cells": [
    {
      "cell_type": "markdown",
      "metadata": {
        "id": "view-in-github",
        "colab_type": "text"
      },
      "source": [
        "<a href=\"https://colab.research.google.com/github/kukuabassanimeri/PLP-PYTHON/blob/main/file_handling_assignment_py.ipynb\" target=\"_parent\"><img src=\"https://colab.research.google.com/assets/colab-badge.svg\" alt=\"Open In Colab\"/></a>"
      ]
    },
    {
      "cell_type": "code",
      "execution_count": 8,
      "metadata": {
        "colab": {
          "base_uri": "https://localhost:8080/"
        },
        "id": "17sW9j3TPoCN",
        "outputId": "c95086d7-975f-4b5d-f91a-26b8c7f1a921"
      },
      "outputs": [
        {
          "output_type": "stream",
          "name": "stdout",
          "text": [
            "This is read from and write into file python assignment \n",
            "Perform the following mathematical operation and include it in the read from and write into file assignment \n",
            "z = 100 + 200 \n",
            "The answer of 100 + 200 is 300\n",
            "This is read from and write into file python assignment \n",
            "Perform the following mathematical operation and include it in the read from and write into file assignment \n",
            "z = 100 + 200 \n",
            "The answer of 100 + 200 is 300So far I am able to differentiate the basic file handling modes \n",
            "I am in position to create a new file that does not exit using the write mode \n",
            "My gratitude goes to plp fraternity for this amazing opportunity, and  I am proud to be a class of 2024 cohort 4\n",
            "Content of my_file.txt:\n",
            "This is read from and write into file python assignment \n",
            "Perform the following mathematical operation and include it in the read from and write into file assignment \n",
            "z = 100 + 200 \n",
            "The answer of 100 + 200 is 300\n",
            "\n",
            "Content of my_file.txt after appending:\n",
            "This is read from and write into file python assignment \n",
            "Perform the following mathematical operation and include it in the read from and write into file assignment \n",
            "z = 100 + 200 \n",
            "The answer of 100 + 200 is 300So far I am able to differentiate the basic file handling modes \n",
            "I am in position to create a new file that does not exit using the write mode \n",
            "My gratitude goes to plp fraternity for this amazing opportunity, and  I am proud to be a class of 2024 cohort 4\n"
          ]
        }
      ],
      "source": [
        "#File Creation\n",
        "file = open(\"my_file.txt\", \"w\") #Creates a new text file named \"my_file.txt\" in write mode ('w')\n",
        "#Write at least three lines of text to the file, including a mix of strings and numbers.\n",
        "file.write(\"This is read from and write into file python assignment \\n\")\n",
        "file.write(\"Perform the following mathematical operation and include it in the read from and write into file assignment \\n\")\n",
        "file.write(\"z = 100 + 200 \\n\")\n",
        "file.write(\"The answer of 100 + 200 is 300\")\n",
        "#Enhance your script to read the contents of \"my_file.txt\" and display them on the consol\n",
        "file = open(\"my_file.txt\", \"r\")\n",
        "content = file.read()\n",
        "print(content)\n",
        "#File Appending\n",
        "#Modify the script to open \"my_file.txt\" in append mode ('a').\n",
        "#Append three additional lines of text to the existing content.\n",
        "file = open(\"my_file.txt\", \"a\")\n",
        "file.write(\"So far I am able to differentiate the basic file handling modes \\n\")\n",
        "file.write(\"I am in position to create a new file that does not exit using the write mode \\n\")\n",
        "file.write(\"My gratitude goes to plp fraternity for this amazing opportunity, and  I am proud to be a class of 2024 cohort 4\")\n",
        "file = open(\"my_file.txt\", \"r\")\n",
        "contentappend = file.read() #read the modified codes and display the results\n",
        "print(contentappend)\n",
        "file.close()\n",
        "\n",
        "try:\n",
        "    # File Creation\n",
        "    file = open(\"my_file.txt\", \"w\")  # Creates a new text file named \"my_file.txt\" in write mode ('w')\n",
        "    # Write at least three lines of text to the file, including a mix of strings and numbers.\n",
        "    file.write(\"This is read from and write into file python assignment \\n\")\n",
        "    file.write(\"Perform the following mathematical operation and include it in the read from and write into file assignment \\n\")\n",
        "    file.write(\"z = 100 + 200 \\n\")\n",
        "    file.write(\"The answer of 100 + 200 is 300\")\n",
        "\n",
        "    # File Reading\n",
        "    file = open(\"my_file.txt\", \"r\")\n",
        "    content = file.read()\n",
        "    print(\"Content of my_file.txt:\")\n",
        "    print(content)\n",
        "\n",
        "    # File Appending\n",
        "    # Modify the script to open \"my_file.txt\" in append mode ('a').\n",
        "    # Append three additional lines of text to the existing content.\n",
        "    file = open(\"my_file.txt\", \"a\")\n",
        "    file.write(\"So far I am able to differentiate the basic file handling modes \\n\")\n",
        "    file.write(\"I am in position to create a new file that does not exit using the write mode \\n\")\n",
        "    file.write(\"My gratitude goes to plp fraternity for this amazing opportunity, and  I am proud to be a class of 2024 cohort 4\")\n",
        "\n",
        "    # Read the modified codes and display the results\n",
        "    file = open(\"my_file.txt\", \"r\")\n",
        "    content_append = file.read()\n",
        "    print(\"\\nContent of my_file.txt after appending:\")\n",
        "    print(content_append)\n",
        "\n",
        "except FileNotFoundError:\n",
        "    print(\"File not found.\")\n",
        "except PermissionError:\n",
        "    print(\"Permission denied.\")\n",
        "except Exception as e:\n",
        "    print(\"An error occurred:\", e)\n",
        "finally:\n",
        "    if 'file' in locals():\n",
        "        file.close()\n",
        "\n"
      ]
    }
  ]
}