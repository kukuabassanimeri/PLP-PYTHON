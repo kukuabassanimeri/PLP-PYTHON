{
  "nbformat": 4,
  "nbformat_minor": 0,
  "metadata": {
    "colab": {
      "provenance": [],
      "authorship_tag": "ABX9TyPGxLmNa2ReUjYWbY6DYupd",
      "include_colab_link": true
    },
    "kernelspec": {
      "name": "python3",
      "display_name": "Python 3"
    },
    "language_info": {
      "name": "python"
    }
  },
  "cells": [
    {
      "cell_type": "markdown",
      "metadata": {
        "id": "view-in-github",
        "colab_type": "text"
      },
      "source": [
        "<a href=\"https://colab.research.google.com/github/kukuabassanimeri/PLP-PYTHON/blob/main/PYTHON_CONTROL_FLOWS_py.ipynb\" target=\"_parent\"><img src=\"https://colab.research.google.com/assets/colab-badge.svg\" alt=\"Open In Colab\"/></a>"
      ]
    },
    {
      "cell_type": "code",
      "execution_count": null,
      "metadata": {
        "id": "1NwO_GX0Q1oA"
      },
      "outputs": [],
      "source": [
        "#Control flow is the order in which a code is to be executed\n",
        "#There are two types of control flows\n",
        "#Conditional statement, (if, else, elif)\n",
        "#loops(for and while)"
      ]
    },
    {
      "cell_type": "code",
      "source": [
        "#PYTHON IF STATEMENT\n",
        "num = 100\n",
        "if num > 50:\n",
        "  print(\"The number is greater than 50\")\n",
        "#PYTHON ELSE STATEMENT\n",
        "else:\n",
        "  print(\"The number is less than 50\")\n",
        "#PYTHON ELIF STATEMENT\n",
        "#Used to execute a block of code between more than two alternatives.\n",
        "#PYTHON IF ELSE\n",
        "#Used to execute a block of code among two alternatives."
      ],
      "metadata": {
        "colab": {
          "base_uri": "https://localhost:8080/"
        },
        "id": "ErEYY_k7Szhe",
        "outputId": "4d6404d8-f1b2-4227-8913-469c99a62d85"
      },
      "execution_count": 3,
      "outputs": [
        {
          "output_type": "stream",
          "name": "stdout",
          "text": [
            "The number is greater than 50\n"
          ]
        }
      ]
    },
    {
      "cell_type": "code",
      "source": [
        "#Write an if/elif/else statement for a college with a grading system as shown below:\n",
        "#If grade is 90 or higher, print \"A\"\n",
        "#Else if grade is 80 or higher, print \"B\"\n",
        "#Else if grade is 70 or higher, print \"C\"\n",
        "#Else if grade is 60 or higher, print \"D\"\n",
        "#Else, print \"F\"\n",
        "Grade = int(input(\"Input the marks: \"))\n",
        "if Grade >= 90:\n",
        "  print(\"A\")\n",
        "elif Grade >= 80:\n",
        "  print(\"B\")\n",
        "elif Grade >= 70:\n",
        "  print(\"C\")\n",
        "elif Grade >= 60:\n",
        "  print(\"D\")\n",
        "else:\n",
        "  print(\"F\")"
      ],
      "metadata": {
        "colab": {
          "base_uri": "https://localhost:8080/"
        },
        "id": "TceoOuBDVJof",
        "outputId": "c5201c6c-b4ee-4767-c12f-9fbb3b9d1eb2"
      },
      "execution_count": 8,
      "outputs": [
        {
          "output_type": "stream",
          "name": "stdout",
          "text": [
            "Input the marks: 67\n",
            "D\n"
          ]
        }
      ]
    },
    {
      "cell_type": "code",
      "source": [
        "#Write an if/elif/else statement to check for http status\n",
        "http_status = int(input(\"Input the http status value: \"))\n",
        "if http_status == 200 or http_status == 201:\n",
        "  print(\"success\")\n",
        "elif http_status == 400:\n",
        "  print(\"Bad request\")\n",
        "elif http_status == 401:\n",
        "  print(\"Not found\")\n",
        "elif http_status == 500 or http_status == 501:\n",
        "  print(\"Server error\")\n",
        "else:\n",
        "  print(\"Unknown\")"
      ],
      "metadata": {
        "colab": {
          "base_uri": "https://localhost:8080/"
        },
        "id": "4YHzcpxOaj2o",
        "outputId": "8257b927-623a-441f-d443-d6bec61c3889"
      },
      "execution_count": 12,
      "outputs": [
        {
          "output_type": "stream",
          "name": "stdout",
          "text": [
            "Input the http status value: 200\n",
            "success\n"
          ]
        }
      ]
    },
    {
      "cell_type": "code",
      "source": [
        "#MATCH\n",
        "#statement takes an expression and compares its value to successive patterns given as one or more case blocks.\n",
        "#It is superficially similar to a switch statement in C, Java or JavaScript\n",
        "#Use | instead of or\n",
        "match http_status:\n",
        "  case 200 | 201:\n",
        "    print(\"Succes\")\n",
        "  case 400:\n",
        "    print(\"Bad request\")\n",
        "  case 401:\n",
        "    print(\"Not found\")\n",
        "  case 500 | 501:\n",
        "    print(\"Server errors\")\n",
        "  case _: #default value\n",
        "    print(\"Unknown\")"
      ],
      "metadata": {
        "colab": {
          "base_uri": "https://localhost:8080/"
        },
        "id": "wmcnnTOYb-ZG",
        "outputId": "c3d78099-fdb2-42c2-b11f-cb9ddb8c368c"
      },
      "execution_count": 13,
      "outputs": [
        {
          "output_type": "stream",
          "name": "stdout",
          "text": [
            "Succes\n"
          ]
        }
      ]
    },
    {
      "cell_type": "code",
      "source": [
        "#LOOPS(FOR AND WHILE)\n",
        "#Programming languages like Python implement two types of iteration:\n",
        "#Indefinite iteration, where the number of times the loop is executed depends on how many times a condition is met.\n",
        "#Definite iteration, where the number of times the loop will be executed is defined in advance (usually based on the collection size).\n",
        "#In a for loop, we will know in advance how many times the loop will need to iterate because we will be working on a collection with a predefined length.\n",
        "#SYNTAX\n",
        "#for <Temporary variable> in <collection>:\n",
        "#action\n",
        "names = [\"Abass\", \"Kuku\", \"Animeeri\", \"Bakery\", \"Chichiya\", \"Chonko\"]\n",
        "for items in names:\n",
        "  print(items)\n",
        "#items is temporary variable\n",
        "#names is collection\n",
        "#print items is the action"
      ],
      "metadata": {
        "colab": {
          "base_uri": "https://localhost:8080/"
        },
        "id": "b-ZwdzupfWMC",
        "outputId": "40ce28e6-ed0a-4961-cf92-a99bfd0eb428"
      },
      "execution_count": 14,
      "outputs": [
        {
          "output_type": "stream",
          "name": "stdout",
          "text": [
            "Abass\n",
            "Kuku\n",
            "Animeeri\n",
            "Bakery\n",
            "Chichiya\n",
            "Chonko\n"
          ]
        }
      ]
    },
    {
      "cell_type": "code",
      "source": [
        "#For Loops: Using Range\n",
        "#A range is a series of values between two numeric intervals.\n",
        "#We use Python's built-in function range() to define a range of values.\n",
        "welcome_message = \"Abass, Welcome to plp class of 2024 cohort 4\"\n",
        "for i in range(5):\n",
        "  print(welcome_message)"
      ],
      "metadata": {
        "colab": {
          "base_uri": "https://localhost:8080/"
        },
        "id": "wIKCeVoGkJGx",
        "outputId": "a982bd05-cf06-4c4c-db74-558dd1e61a43"
      },
      "execution_count": 15,
      "outputs": [
        {
          "output_type": "stream",
          "name": "stdout",
          "text": [
            "Abass, Welcome to plp class of 2024 cohort 4\n",
            "Abass, Welcome to plp class of 2024 cohort 4\n",
            "Abass, Welcome to plp class of 2024 cohort 4\n",
            "Abass, Welcome to plp class of 2024 cohort 4\n",
            "Abass, Welcome to plp class of 2024 cohort 4\n"
          ]
        }
      ]
    },
    {
      "cell_type": "code",
      "source": [
        "#WHILE LOOP\n",
        "#A while loop performs a set of instructions as long as a given condition is true.\n",
        "#SYNTAX while<conditional statement>:\n",
        "#action\n",
        "count = 0\n",
        "while count <= 5:\n",
        "  print(count)\n",
        "  count += 1"
      ],
      "metadata": {
        "colab": {
          "base_uri": "https://localhost:8080/"
        },
        "id": "73bE63-TlNPp",
        "outputId": "6853f890-5d13-47c2-a337-c818abb1e902"
      },
      "execution_count": 16,
      "outputs": [
        {
          "output_type": "stream",
          "name": "stdout",
          "text": [
            "0\n",
            "1\n",
            "2\n",
            "3\n",
            "4\n",
            "5\n"
          ]
        }
      ]
    },
    {
      "cell_type": "code",
      "source": [
        "#Loop controls: Break and continue\n",
        "#The break statement is used to terminate the loop immediately when it is encountered."
      ],
      "metadata": {
        "id": "BTB83SNpmyCr"
      },
      "execution_count": null,
      "outputs": []
    },
    {
      "cell_type": "code",
      "source": [
        "#Python continue Statement\n",
        "#The continue statement is used to skip the current iteration of the loop and the control flow of the program goes to the next iteration.\n",
        "ages = [13, 34, 24, 20, 50,10, 45]\n",
        "for age in ages:\n",
        "  if age < 20:\n",
        "    continue\n",
        "  print(age)\n"
      ],
      "metadata": {
        "colab": {
          "base_uri": "https://localhost:8080/"
        },
        "id": "lm-uL7sAodh_",
        "outputId": "edcf63fc-1de7-432c-a3bf-d51c6a128f1f"
      },
      "execution_count": 17,
      "outputs": [
        {
          "output_type": "stream",
          "name": "stdout",
          "text": [
            "34\n",
            "24\n",
            "20\n",
            "50\n",
            "45\n"
          ]
        }
      ]
    },
    {
      "cell_type": "code",
      "source": [
        "#Nested Loops\n",
        "#In Python, loops can be nested inside other loops. Nested loops can be used to access items of lists which are inside other lists.\n",
        "#The item selected from the outer loop can be used as the list for the inner loop to iterate over.\n",
        "groups = [[\"Abass\", \"Brian\", \"Muoka\", \"zairuk\"]]\n",
        "for group in groups:\n",
        "  for name in group:\n",
        "    print(name)"
      ],
      "metadata": {
        "colab": {
          "base_uri": "https://localhost:8080/"
        },
        "id": "4ermIlAbpX7y",
        "outputId": "de2d2ee7-32ff-4a07-b6e0-a9ed90822a52"
      },
      "execution_count": 18,
      "outputs": [
        {
          "output_type": "stream",
          "name": "stdout",
          "text": [
            "Abass\n",
            "Brian\n",
            "Muoka\n",
            "zairuk\n"
          ]
        }
      ]
    }
  ]
}