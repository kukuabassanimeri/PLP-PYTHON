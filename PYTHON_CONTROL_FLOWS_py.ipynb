{
  "nbformat": 4,
  "nbformat_minor": 0,
  "metadata": {
    "colab": {
      "provenance": [],
      "authorship_tag": "ABX9TyNkDlIkM6FnAORl4LwSYvu8",
      "include_colab_link": true
    },
    "kernelspec": {
      "name": "python3",
      "display_name": "Python 3"
    },
    "language_info": {
      "name": "python"
    }
  },
  "cells": [
    {
      "cell_type": "markdown",
      "metadata": {
        "id": "view-in-github",
        "colab_type": "text"
      },
      "source": [
        "<a href=\"https://colab.research.google.com/github/kukuabassanimeri/PLP-PYTHON/blob/main/PYTHON_CONTROL_FLOWS_py.ipynb\" target=\"_parent\"><img src=\"https://colab.research.google.com/assets/colab-badge.svg\" alt=\"Open In Colab\"/></a>"
      ]
    },
    {
      "cell_type": "code",
      "execution_count": null,
      "metadata": {
        "id": "1NwO_GX0Q1oA"
      },
      "outputs": [],
      "source": [
        "#Control flow is the order in which a code is to be executed\n",
        "#There are two types of control flows\n",
        "#Conditional statement, (if, else, elif)\n",
        "#loops(for and while)"
      ]
    },
    {
      "cell_type": "code",
      "source": [
        "#PYTHON IF STATEMENT\n",
        "num = 100\n",
        "if num > 50:\n",
        "  print(\"The number is greater than 50\")\n",
        "#PYTHON ELSE STATEMENT\n",
        "else:\n",
        "  print(\"The number is less than 50\")\n",
        "#PYTHON ELIF STATEMENT\n",
        "#Used to execute a block of code between more than two alternatives.\n",
        "#PYTHON IF ELSE\n",
        "#Used to execute a block of code among two alternatives."
      ],
      "metadata": {
        "colab": {
          "base_uri": "https://localhost:8080/"
        },
        "id": "ErEYY_k7Szhe",
        "outputId": "4d6404d8-f1b2-4227-8913-469c99a62d85"
      },
      "execution_count": null,
      "outputs": [
        {
          "output_type": "stream",
          "name": "stdout",
          "text": [
            "The number is greater than 50\n"
          ]
        }
      ]
    },
    {
      "cell_type": "code",
      "source": [
        "#Write an if/elif/else statement for a college with a grading system as shown below:\n",
        "#If grade is 90 or higher, print \"A\"\n",
        "#Else if grade is 80 or higher, print \"B\"\n",
        "#Else if grade is 70 or higher, print \"C\"\n",
        "#Else if grade is 60 or higher, print \"D\"\n",
        "#Else, print \"F\"\n",
        "Grade = int(input(\"Input the marks: \"))\n",
        "if Grade >= 90:\n",
        "  print(\"A\")\n",
        "elif Grade >= 80:\n",
        "  print(\"B\")\n",
        "elif Grade >= 70:\n",
        "  print(\"C\")\n",
        "elif Grade >= 60:\n",
        "  print(\"D\")\n",
        "else:\n",
        "  print(\"F\")"
      ],
      "metadata": {
        "colab": {
          "base_uri": "https://localhost:8080/"
        },
        "id": "TceoOuBDVJof",
        "outputId": "c5201c6c-b4ee-4767-c12f-9fbb3b9d1eb2"
      },
      "execution_count": null,
      "outputs": [
        {
          "output_type": "stream",
          "name": "stdout",
          "text": [
            "Input the marks: 67\n",
            "D\n"
          ]
        }
      ]
    },
    {
      "cell_type": "code",
      "source": [
        "#Write python program that can read student's performance as follows:\n",
        "#Score > 80 - Distinction, 60 - 70 - Credict, 40 - 50 - fair, < 40 fail\n",
        "Score = int(input(\"Enter the student score: \"))\n",
        "if Score > 80 and Score <= 100:\n",
        "  print(\"Distinction\")\n",
        "elif Score >= 60 and Score <= 70:\n",
        "  print(\"Credit\")\n",
        "elif Score >= 40 and Score <= 50:\n",
        "  print(\"Fair\")\n",
        "elif Score >= 0 and Score < 40:\n",
        "  print(\"Fail\")\n",
        "else:\n",
        "  print(\"Invalid Score\")"
      ],
      "metadata": {
        "colab": {
          "base_uri": "https://localhost:8080/"
        },
        "id": "hpTwg1toHhBN",
        "outputId": "16abeb00-0a39-4db7-8531-5d91e9f5064c"
      },
      "execution_count": null,
      "outputs": [
        {
          "output_type": "stream",
          "name": "stdout",
          "text": [
            "Enter the student score: 80\n",
            "Invalid Score\n"
          ]
        }
      ]
    },
    {
      "cell_type": "code",
      "source": [
        "#Write an if/elif/else statement to check for http status\n",
        "http_status = int(input(\"Input the http status value: \"))\n",
        "if http_status == 200 or http_status == 201:\n",
        "  print(\"success\")\n",
        "elif http_status == 400:\n",
        "  print(\"Bad request\")\n",
        "elif http_status == 401:\n",
        "  print(\"Not found\")\n",
        "elif http_status == 500 or http_status == 501:\n",
        "  print(\"Server error\")\n",
        "else:\n",
        "  print(\"Unknown\")"
      ],
      "metadata": {
        "colab": {
          "base_uri": "https://localhost:8080/"
        },
        "id": "4YHzcpxOaj2o",
        "outputId": "8257b927-623a-441f-d443-d6bec61c3889"
      },
      "execution_count": null,
      "outputs": [
        {
          "output_type": "stream",
          "name": "stdout",
          "text": [
            "Input the http status value: 200\n",
            "success\n"
          ]
        }
      ]
    },
    {
      "cell_type": "code",
      "source": [
        "#MATCH\n",
        "#statement takes an expression and compares its value to successive patterns given as one or more case blocks.\n",
        "#It is superficially similar to a switch statement in C, Java or JavaScript\n",
        "#Use | instead of or\n",
        "match http_status:\n",
        "  case 200 | 201:\n",
        "    print(\"Succes\")\n",
        "  case 400:\n",
        "    print(\"Bad request\")\n",
        "  case 401:\n",
        "    print(\"Not found\")\n",
        "  case 500 | 501:\n",
        "    print(\"Server errors\")\n",
        "  case _: #default value\n",
        "    print(\"Unknown\")"
      ],
      "metadata": {
        "colab": {
          "base_uri": "https://localhost:8080/"
        },
        "id": "wmcnnTOYb-ZG",
        "outputId": "c3d78099-fdb2-42c2-b11f-cb9ddb8c368c"
      },
      "execution_count": null,
      "outputs": [
        {
          "output_type": "stream",
          "name": "stdout",
          "text": [
            "Succes\n"
          ]
        }
      ]
    },
    {
      "cell_type": "code",
      "source": [
        "#LOOPS(FOR AND WHILE)\n",
        "#Programming languages like Python implement two types of iteration:\n",
        "#Indefinite iteration, where the number of times the loop is executed depends on how many times a condition is met.\n",
        "#Definite iteration, where the number of times the loop will be executed is defined in advance (usually based on the collection size).\n",
        "#In a for loop, we will know in advance how many times the loop will need to iterate because we will be working on a collection with a predefined length.\n",
        "#SYNTAX\n",
        "#for <Temporary variable> in <collection>:\n",
        "#action\n",
        "names = [\"Abass\", \"Kuku\", \"Animeeri\", \"Bakery\", \"Chichiya\", \"Chonko\"]\n",
        "for items in names:\n",
        "  print(items)\n",
        "#items is temporary variable\n",
        "#names is collection\n",
        "#print items is the action"
      ],
      "metadata": {
        "colab": {
          "base_uri": "https://localhost:8080/"
        },
        "id": "b-ZwdzupfWMC",
        "outputId": "40ce28e6-ed0a-4961-cf92-a99bfd0eb428"
      },
      "execution_count": null,
      "outputs": [
        {
          "output_type": "stream",
          "name": "stdout",
          "text": [
            "Abass\n",
            "Kuku\n",
            "Animeeri\n",
            "Bakery\n",
            "Chichiya\n",
            "Chonko\n"
          ]
        }
      ]
    },
    {
      "cell_type": "code",
      "source": [
        "#For Loops: Using Range\n",
        "#A range is a series of values between two numeric intervals.\n",
        "#We use Python's built-in function range() to define a range of values.\n",
        "welcome_message = \"Abass, Welcome to plp class of 2024 cohort 4\"\n",
        "for i in range(5):\n",
        "  print(welcome_message)"
      ],
      "metadata": {
        "colab": {
          "base_uri": "https://localhost:8080/"
        },
        "id": "wIKCeVoGkJGx",
        "outputId": "a982bd05-cf06-4c4c-db74-558dd1e61a43"
      },
      "execution_count": null,
      "outputs": [
        {
          "output_type": "stream",
          "name": "stdout",
          "text": [
            "Abass, Welcome to plp class of 2024 cohort 4\n",
            "Abass, Welcome to plp class of 2024 cohort 4\n",
            "Abass, Welcome to plp class of 2024 cohort 4\n",
            "Abass, Welcome to plp class of 2024 cohort 4\n",
            "Abass, Welcome to plp class of 2024 cohort 4\n"
          ]
        }
      ]
    },
    {
      "cell_type": "code",
      "source": [
        "#WHILE LOOP\n",
        "#A while loop performs a set of instructions as long as a given condition is true.\n",
        "#SYNTAX while<conditional statement>:\n",
        "#action\n",
        "count = 0\n",
        "while count <= 5:\n",
        "  print(count)\n",
        "  count += 1"
      ],
      "metadata": {
        "colab": {
          "base_uri": "https://localhost:8080/"
        },
        "id": "73bE63-TlNPp",
        "outputId": "6853f890-5d13-47c2-a337-c818abb1e902"
      },
      "execution_count": null,
      "outputs": [
        {
          "output_type": "stream",
          "name": "stdout",
          "text": [
            "0\n",
            "1\n",
            "2\n",
            "3\n",
            "4\n",
            "5\n"
          ]
        }
      ]
    },
    {
      "cell_type": "code",
      "source": [
        "#Loop controls: Break and continue\n",
        "#The break statement is used to terminate the loop immediately when it is encountered.\n",
        "#Using for loop\n",
        "colors = [\"blue\", \"green\", \"white\", \"yellow\", \"brown\", \"black\", \"cream\"]\n",
        "color_i_want = \"white\"\n",
        "for color in colors:\n",
        "  if color == color_i_want:\n",
        "    print(\"They have the color I want!\")\n",
        "    break\n",
        "  print(color)"
      ],
      "metadata": {
        "id": "BTB83SNpmyCr",
        "colab": {
          "base_uri": "https://localhost:8080/"
        },
        "outputId": "aa1db6f9-4b97-4eb2-8dc7-77de7eef6b55"
      },
      "execution_count": null,
      "outputs": [
        {
          "output_type": "stream",
          "name": "stdout",
          "text": [
            "blue\n",
            "green\n",
            "They have the color I want!\n"
          ]
        }
      ]
    },
    {
      "cell_type": "code",
      "source": [
        "#Using While loop\n",
        "colors = [\"blue\", \"green\", \"white\", \"yellow\", \"brown\", \"cream\"]\n",
        "color_I_want = \"yellow\"\n",
        "length = len(colors)\n",
        "count = 0\n",
        "while count < length:\n",
        "  print(colors[count])\n",
        "  if colors[count] == color_I_want:\n",
        "    print(\"They have the color I want!\")\n",
        "    break\n",
        "  count += 1"
      ],
      "metadata": {
        "colab": {
          "base_uri": "https://localhost:8080/"
        },
        "id": "gTrpW3-8epgG",
        "outputId": "587f1cc3-f3a9-460e-b0dc-2ff1bf762e7a"
      },
      "execution_count": null,
      "outputs": [
        {
          "output_type": "stream",
          "name": "stdout",
          "text": [
            "blue\n",
            "green\n",
            "white\n",
            "yellow\n",
            "They have the color I want!\n"
          ]
        }
      ]
    },
    {
      "cell_type": "code",
      "source": [
        "#Python continue Statement\n",
        "#The continue statement is used to skip the current iteration of the loop and the control flow of the program goes to the next iteration.\n",
        "ages = [13, 34, 24, 20, 50,10, 45]\n",
        "for age in ages:\n",
        "  if age < 20:\n",
        "    continue\n",
        "  print(age)\n"
      ],
      "metadata": {
        "colab": {
          "base_uri": "https://localhost:8080/"
        },
        "id": "lm-uL7sAodh_",
        "outputId": "edcf63fc-1de7-432c-a3bf-d51c6a128f1f"
      },
      "execution_count": null,
      "outputs": [
        {
          "output_type": "stream",
          "name": "stdout",
          "text": [
            "34\n",
            "24\n",
            "20\n",
            "50\n",
            "45\n"
          ]
        }
      ]
    },
    {
      "cell_type": "code",
      "source": [
        "#Nested Loops\n",
        "#In Python, loops can be nested inside other loops. Nested loops can be used to access items of lists which are inside other lists.\n",
        "#The item selected from the outer loop can be used as the list for the inner loop to iterate over.\n",
        "groups = [[\"Abass\", \"Brian\", \"Muoka\", \"zairuk\"]]\n",
        "for group in groups:\n",
        "  for name in group:\n",
        "    print(name)"
      ],
      "metadata": {
        "colab": {
          "base_uri": "https://localhost:8080/"
        },
        "id": "4ermIlAbpX7y",
        "outputId": "de2d2ee7-32ff-4a07-b6e0-a9ed90822a52"
      },
      "execution_count": null,
      "outputs": [
        {
          "output_type": "stream",
          "name": "stdout",
          "text": [
            "Abass\n",
            "Brian\n",
            "Muoka\n",
            "zairuk\n"
          ]
        }
      ]
    },
    {
      "cell_type": "code",
      "source": [
        "#List Comprehensions\n",
        "#List comprehensions provide a concise way to create lists. Common applications are to make new lists where each element is\n",
        "#the result of some operations applied to each member of another sequence or iterable, or to create a subsequence of those elements that satisfy a certain condition\n",
        "squares = []\n",
        "for x in range(10):\n",
        "  squares.append(x ** 2)\n",
        "print(squares)"
      ],
      "metadata": {
        "colab": {
          "base_uri": "https://localhost:8080/"
        },
        "id": "681J5aBZijV6",
        "outputId": "491e4a21-1c9f-4456-ca1b-f57f4c1f3564"
      },
      "execution_count": null,
      "outputs": [
        {
          "output_type": "stream",
          "name": "stdout",
          "text": [
            "[0, 1, 4, 9, 16, 25, 36, 49, 64, 81]\n"
          ]
        }
      ]
    },
    {
      "cell_type": "code",
      "source": [
        "nums = [4, -11, 69, 53, -65]\n",
        "double = []\n",
        "for num in nums:\n",
        "  double.append(num * 2)\n",
        "print(double)"
      ],
      "metadata": {
        "colab": {
          "base_uri": "https://localhost:8080/"
        },
        "id": "uYxRojvTkhRv",
        "outputId": "3ccfe68a-b81c-4fac-b610-0e7afa61e3a6"
      },
      "execution_count": null,
      "outputs": [
        {
          "output_type": "stream",
          "name": "stdout",
          "text": [
            "[8, -22, 138, 106, -130]\n"
          ]
        }
      ]
    },
    {
      "cell_type": "code",
      "source": [
        "#Using list comprehension to achieve the same result\n",
        "nums = [4, -11, 69, 53, -65]\n",
        "doubled = [num * 2 for num in nums]\n",
        "print(doubled)"
      ],
      "metadata": {
        "colab": {
          "base_uri": "https://localhost:8080/"
        },
        "id": "wvy04225lQyP",
        "outputId": "5e27340f-b982-4514-c27d-ff1e54db0f5a"
      },
      "execution_count": null,
      "outputs": [
        {
          "output_type": "stream",
          "name": "stdout",
          "text": [
            "[16, 121, 4761, 2809, 4225]\n"
          ]
        }
      ]
    },
    {
      "cell_type": "code",
      "source": [
        "#PLP PYTHON FUNCTION\n",
        "#Function is a block of code which is executed when it is called from somewhere in the program. A function has a return value.\n",
        "#SYNTAX\n",
        "#def <function_name>: without parameter\n",
        "#<task to complete>\n",
        "#def <function_name(a, b)>: with parameter\n",
        "#<task to be complete"
      ],
      "metadata": {
        "id": "XGz9drJ6m4m9"
      },
      "execution_count": null,
      "outputs": []
    },
    {
      "cell_type": "code",
      "source": [
        "#Function that addds two numbers entered by the user\n",
        "def add_nums(x, y):\n",
        "  sum = x + y\n",
        "  return(sum)\n",
        "num1 = int(input(\"Enter the value of num1: \"))\n",
        "num2 = int(input(\"Enter the value of num2: \"))34\n",
        "result = add_nums(num1, num2)\n",
        "print(result)"
      ],
      "metadata": {
        "colab": {
          "base_uri": "https://localhost:8080/"
        },
        "id": "eNKG-XXwpNt7",
        "outputId": "b9682425-8fe3-4530-88de-c53b5a4baaab"
      },
      "execution_count": null,
      "outputs": [
        {
          "name": "stdout",
          "output_type": "stream",
          "text": [
            "Enter the value of num2: 23\n",
            "61\n",
            "61\n",
            "Enter the value of num2: 34\n"
          ]
        }
      ]
    },
    {
      "cell_type": "code",
      "source": [
        "def mul_nums(x, y):\n",
        "  prod = (x * y)\n",
        "  return (prod)\n",
        "num1 = int(input(\"Enter the value of num1: \"))\n",
        "num2 = int(input(\"Enter the value of num2: \"))\n",
        "MulResult = mul_nums56\n",
        " (num1, num2)\n",
        "print(MulResult)\n"
      ],
      "metadata": {
        "colab": {
          "base_uri": "https://localhost:8080/"
        },
        "id": "En400ezlMILM",
        "outputId": "0466628b-466c-42cf-ceb7-6544d243d56f"
      },
      "execution_count": null,
      "outputs": [
        {
          "output_type": "stream",
          "name": "stdout",
          "text": [
            "Enter the value of num1: 34\n",
            "68\n"
          ]
        }
      ]
    },
    {
      "cell_type": "code",
      "source": [
        "def div_nums(x, y):\n",
        "  division = (x * y)\n",
        "  return (division)\n",
        "num1 = int(input(\"Enter the value of num1: \"))\n",
        "num2 = int(input(\"Enter the value of num2: \"))\n",
        "DivisonResult = div_nums(num1, num2)\n",
        "print(DivisionResult)"
      ],
      "metadata": {
        "id": "AnXFbak_NsDA"
      },
      "execution_count": null,
      "outputs": []
    },
    {
      "cell_type": "code",
      "source": [
        "def sub_nums(x, y):\n",
        "  subt = (x * y)\n",
        "  return (subt)\n",
        "num1 = int(input(\"Enter the value of num1: \"))\n",
        "num2 = int(input(\"Enter the value of num2: \"))\n",
        "SubResult = add_nums(num1, num2)\n",
        "print(SubResult)"
      ],
      "metadata": {
        "id": "k85VUlCLOMow"
      },
      "execution_count": null,
      "outputs": []
    },
    {
      "cell_type": "code",
      "source": [
        "bike = input(\"Enter the bike name: \")\n",
        "if bike == \"Hero\":\n",
        "  print(\"Bike is Hero\")\n",
        "elif bike == \"Suzuki\":\n",
        "  print(\"Bike is Suzuki\")\n",
        "elif bike == \"Yahama\":\n",
        "  print(\"Bike is Yahama\")\n",
        "else:\n",
        "  print(\"Not bike type\")"
      ],
      "metadata": {
        "colab": {
          "base_uri": "https://localhost:8080/"
        },
        "id": "Zxi6H_bo16Bg",
        "outputId": "58c9aa16-1871-42eb-b49a-d6114279dcf2"
      },
      "execution_count": null,
      "outputs": [
        {
          "output_type": "stream",
          "name": "stdout",
          "text": [
            "Enter the bike name: Toyota \n",
            "Not bike type\n"
          ]
        }
      ]
    },
    {
      "cell_type": "code",
      "source": [
        "#WEEK 3 ASSIGNMENT\n",
        "#NOTE THIS IS WEEK 3 ASSIGNMENT\n",
        "#1.Create a function named calculate_discount(price, discount_percent) that calculates the final price after applying a discount.\n",
        "#The function should take the original price (price) and the discount percentage (discount_percent) as parameters. If the discount is 20% or higher, apply the discount;\n",
        "#otherwise, return the original price.\n",
        "def calculate_discount(price, discount_percent):\n",
        "  Discount = (price * discount_percent) / 100\n",
        "  BuyingPrice = (price - Discount)\n",
        "  return (BuyingPrice)\n",
        "OriginalPrice = float(input(\"Enter the origional price of an item: \"))\n",
        "PercentDiscount = float(input(\"Enter the discount of the item: \"))\n",
        "if PercentDiscount >= 20:\n",
        "  FinalPrice = calculate_discount(OriginalPrice, PercentDiscount)\n",
        "  print(FinalPrice)\n",
        "else:\n",
        "  print(OriginalPrice)"
      ],
      "metadata": {
        "colab": {
          "base_uri": "https://localhost:8080/"
        },
        "id": "MelVb9sklVy3",
        "outputId": "1a9356d8-5c0e-4780-d150-8a6a86c013b2"
      },
      "execution_count": 23,
      "outputs": [
        {
          "output_type": "stream",
          "name": "stdout",
          "text": [
            "Enter the origional price of an item: 1000\n",
            "Enter the discount of the item: 30\n",
            "700.0\n"
          ]
        }
      ]
    }
  ]
}